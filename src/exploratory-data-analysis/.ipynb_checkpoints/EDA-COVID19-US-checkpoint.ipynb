{
 "cells": [
  {
   "cell_type": "markdown",
   "metadata": {},
   "source": [
    "# Exploratory Data Analysis for COVID-19 Outbreak in the U.S."
   ]
  },
  {
   "cell_type": "markdown",
   "metadata": {},
   "source": [
    "***Author: Sultan Albogami*** \n",
    "\n",
    "***Last Updated: 3/31/2020***\n",
    "\n",
    "***Description: Initial investigations on COVID-19 data state and county wise so as to discover patterns, spot anomalies, test hypothesis and check assumptions with the help of summary statistics and graphical representations.***"
   ]
  },
  {
   "cell_type": "markdown",
   "metadata": {},
   "source": [
    "**Importing Libraries**"
   ]
  },
  {
   "cell_type": "code",
   "execution_count": null,
   "metadata": {},
   "outputs": [],
   "source": [
    "import os\n",
    "import numpy as np\n",
    "import pandas as pd\n",
    "import matplotlib.pyplot as plt\n",
    "from matplotlib.pyplot import figure\n",
    "from matplotlib import style\n",
    "style.use('ggplot')"
   ]
  },
  {
   "cell_type": "markdown",
   "metadata": {},
   "source": [
    "**Reading Data**"
   ]
  },
  {
   "cell_type": "code",
   "execution_count": null,
   "metadata": {},
   "outputs": [],
   "source": [
    "os.chdir(r\"C:\\Users\\Sultan\\Documents\\GitHub\\covid-19-data-analysis\\util\\data\")"
   ]
  },
  {
   "cell_type": "code",
   "execution_count": null,
   "metadata": {},
   "outputs": [],
   "source": [
    "df = pd.read_csv('us-states-03-30-20.csv')"
   ]
  },
  {
   "cell_type": "code",
   "execution_count": null,
   "metadata": {},
   "outputs": [],
   "source": [
    "df.head()"
   ]
  },
  {
   "cell_type": "code",
   "execution_count": null,
   "metadata": {},
   "outputs": [],
   "source": [
    "df.shape"
   ]
  },
  {
   "cell_type": "markdown",
   "metadata": {},
   "source": [
    "#### Plotting cases v.s. deaths by date"
   ]
  },
  {
   "cell_type": "code",
   "execution_count": null,
   "metadata": {},
   "outputs": [],
   "source": [
    "ax = plt.gca()\n",
    "df.plot(kind='line', x='date', y='cases', figsize=(12, 8), ax=ax)\n",
    "df.plot(kind='line', x='date', y='deaths', figsize=(12, 8), ax=ax)\n",
    "plt.ylabel('Count')\n",
    "plt.title('Increase of cases and deaths over time')\n",
    "plt.show()"
   ]
  },
  {
   "cell_type": "markdown",
   "metadata": {},
   "source": [
    "#### Top 10 states with the most  number cases and deaths as of 03-30-2020"
   ]
  },
  {
   "cell_type": "code",
   "execution_count": null,
   "metadata": {},
   "outputs": [],
   "source": [
    "# Sum the cases and deaths\n",
    "latest_sum = df.groupby(['state'])['cases', 'deaths'].agg('sum')\n",
    "\n",
    "# Sort in descending order\n",
    "latest_sum = latest_sum.sort_values(by=['cases', 'deaths'], ascending=False)\n",
    "\n",
    "latest_sum.head(10)"
   ]
  },
  {
   "cell_type": "code",
   "execution_count": null,
   "metadata": {},
   "outputs": [],
   "source": [
    "# Plot the result\n",
    "latest_sum.head(10).plot(kind='bar', figsize=(10, 6))\n",
    "plt.ylabel('Count')\n",
    "plt.title('Top 10 states with the most number of cases and deaths as of 03-30-2020')\n",
    "plt.show()"
   ]
  },
  {
   "cell_type": "markdown",
   "metadata": {},
   "source": [
    "**Total Number of Cases and Deaths as of 2020-03-30**"
   ]
  },
  {
   "cell_type": "code",
   "execution_count": null,
   "metadata": {},
   "outputs": [],
   "source": [
    "latest_total = df.groupby('date')['cases', 'deaths'].sum().reset_index()\n",
    "latest_total = latest_total[latest_total['date']==max(latest_total['date'])].reset_index(drop=True)\n",
    "latest_total"
   ]
  },
  {
   "cell_type": "markdown",
   "metadata": {},
   "source": [
    "#### Top 10 states with the most  new cases, deaths, percentage of deaths, case growth rate, death growth rate as of 03-30-2020"
   ]
  },
  {
   "cell_type": "code",
   "execution_count": null,
   "metadata": {
    "scrolled": true
   },
   "outputs": [],
   "source": [
    "# Extract new cases and deaths by date using loc.\n",
    "present_stats = df.loc[df['date'] == '2020-03-30', ['date', 'state', 'cases', 'deaths']]\n",
    "\n",
    "# Present death percentage\n",
    "present_stats['death percentage'] = (present_stats['deaths'] / present_stats['cases']) * 100\n",
    "\n",
    "# Sort in descending order\n",
    "present_stats = present_stats.sort_values(by=['cases', 'deaths', 'death percentage'], ascending=False)\n",
    "\n",
    "present_stats.head(10)"
   ]
  },
  {
   "cell_type": "code",
   "execution_count": null,
   "metadata": {},
   "outputs": [],
   "source": [
    "# Plot the result\n",
    "present_stats.head(10).plot(kind='bar', x='state', y='death percentage', figsize=(10, 6))\n",
    "\n",
    "# Set the plot title\n",
    "plt.title('Top 10 states with the highest death  death percentage as of 03-30-2020')"
   ]
  },
  {
   "cell_type": "code",
   "execution_count": null,
   "metadata": {},
   "outputs": [],
   "source": [
    "import plotly.express as px\n",
    "\n",
    "fig = px.bar(df , x='date', y='cases', color='state', labels={'y':'cases'},\n",
    "             hover_data=['state'],\n",
    "             title='Evolution of Reported COVID-19 Cases in the United States')\n",
    "fig.write_image('../img/evolution-covid-19-cases-states.png')\n",
    "fig.show()"
   ]
  },
  {
   "cell_type": "code",
   "execution_count": null,
   "metadata": {},
   "outputs": [],
   "source": [
    "fig = px.bar(df , x='date', y='deaths', color='state', labels={'y':'cases'},\n",
    "             hover_data=['state'],\n",
    "             title='Evolution of Reported COVID-19 Deaths in the United States')\n",
    "fig.write_image('../img/evolution-covid-19-deaths-states.png')\n",
    "fig.show()"
   ]
  },
  {
   "cell_type": "code",
   "execution_count": null,
   "metadata": {},
   "outputs": [],
   "source": [
    "# Tree Map Visualization of COVID-19 Cases by Date and State\n",
    "fig = px.treemap(df.sort_values(by='cases', ascending=False).reset_index(drop=True), \n",
    "                 path=[\"state\", \"date\"], values=\"cases\", height=700,\n",
    "                 title='Number of COVID-19 Cases by State and Date',\n",
    "                 color_discrete_sequence = px.colors.qualitative.Prism)\n",
    "fig.data[0].textinfo = 'label+text+value'\n",
    "fig.write_image('../img/treemap-of-covid-19-cases-states.png')\n",
    "fig.show()"
   ]
  },
  {
   "cell_type": "code",
   "execution_count": null,
   "metadata": {},
   "outputs": [],
   "source": [
    "# Tree Map Visualization of COVID-19 Death Cases by State and Date\n",
    "fig = px.treemap(df.sort_values(by='deaths', ascending=False).reset_index(drop=True), \n",
    "                 path=[\"state\", \"date\"], values=\"deaths\", height=700,\n",
    "                 title='Number of deaths from COVID-19 by State and Date',\n",
    "                 color_discrete_sequence = px.colors.qualitative.Prism)\n",
    "fig.data[0].textinfo = 'label+text+value'\n",
    "fig.write_image('../img/treemap-of-covid-19-deaths-states.png')\n",
    "fig.show()"
   ]
  },
  {
   "cell_type": "markdown",
   "metadata": {},
   "source": [
    "## EDA for U.S. Counties"
   ]
  },
  {
   "cell_type": "code",
   "execution_count": null,
   "metadata": {},
   "outputs": [],
   "source": [
    "df = pd.read_csv('us-counties-03-30-20.csv')"
   ]
  },
  {
   "cell_type": "code",
   "execution_count": null,
   "metadata": {},
   "outputs": [],
   "source": [
    "df.head()"
   ]
  },
  {
   "cell_type": "code",
   "execution_count": null,
   "metadata": {},
   "outputs": [],
   "source": [
    "df.shape"
   ]
  },
  {
   "cell_type": "code",
   "execution_count": null,
   "metadata": {},
   "outputs": [],
   "source": [
    "# Sum the cases and deaths\n",
    "latest_sum = df.groupby(['county'])['cases', 'deaths'].agg('sum')\n",
    "\n",
    "# Sort in descending order\n",
    "latest_sum = latest_sum.sort_values(by=['cases', 'deaths'], ascending=False)\n",
    "\n",
    "latest_sum.head(10)"
   ]
  },
  {
   "cell_type": "code",
   "execution_count": null,
   "metadata": {},
   "outputs": [],
   "source": [
    "# Plot the result\n",
    "latest_sum.head(10).plot(kind='bar', figsize=(10, 6))\n",
    "plt.ylabel('Count')\n",
    "plt.title('Top 10 counties with the most number of cases and deaths as of 03-30-2020')\n",
    "plt.show()"
   ]
  },
  {
   "cell_type": "code",
   "execution_count": null,
   "metadata": {},
   "outputs": [],
   "source": [
    "fig = px.bar(df, x='date', y='cases', color='county', labels={'y':'cases'},\n",
    "             hover_data=['county'],\n",
    "             title='Evolution of Reported COVID-19 Cases in the United States Counties')\n",
    "fig.write_image('../img/evolution-covid-19-cases-counties.png')\n",
    "fig.show()"
   ]
  },
  {
   "cell_type": "code",
   "execution_count": null,
   "metadata": {},
   "outputs": [],
   "source": [
    "fig = px.bar(df, x='date', y='deaths', color='county', labels={'y':'cases'},\n",
    "             hover_data=['county'],\n",
    "             title='Evolution of Reported COVID-19 Deaths in the United States Counties')\n",
    "fig.write_image('../img/evolution-covid-19-deaths-counties.png')\n",
    "fig.show()"
   ]
  },
  {
   "cell_type": "code",
   "execution_count": null,
   "metadata": {},
   "outputs": [],
   "source": [
    "# Tree Map Visualization of COVID-19 Cases by County and Date\n",
    "fig = px.treemap(df.sort_values(by='cases', ascending=False).reset_index(drop=True), \n",
    "                 path=[\"county\", \"date\"], values=\"deaths\", height=700,\n",
    "                 title='Number of deaths from COVID-19 by County and Date',\n",
    "                 color_discrete_sequence = px.colors.qualitative.Prism)\n",
    "fig.data[0].textinfo = 'label+text+value'\n",
    "fig.write_image('../img/treemap-of-covid-19-cases-counties.png')\n",
    "fig.show()"
   ]
  },
  {
   "cell_type": "code",
   "execution_count": null,
   "metadata": {},
   "outputs": [],
   "source": [
    "# Tree Map Visualization of COVID-19 Deaths by County and Date\n",
    "fig = px.treemap(df.sort_values(by='deaths', ascending=False).reset_index(drop=True), \n",
    "                 path=[\"county\", \"date\"], values=\"deaths\", height=700,\n",
    "                 title='Number of deaths from COVID-19 by County and Date',\n",
    "                 color_discrete_sequence = px.colors.qualitative.Prism)\n",
    "fig.data[0].textinfo = 'label+text+value'\n",
    "fig.write_image('../img/treemap-of-covid-19-deaths-counties.png')\n",
    "fig.show()"
   ]
  }
 ],
 "metadata": {
  "kernelspec": {
   "display_name": "Python 3",
   "language": "python",
   "name": "python3"
  },
  "language_info": {
   "codemirror_mode": {
    "name": "ipython",
    "version": 3
   },
   "file_extension": ".py",
   "mimetype": "text/x-python",
   "name": "python",
   "nbconvert_exporter": "python",
   "pygments_lexer": "ipython3",
   "version": "3.7.4"
  }
 },
 "nbformat": 4,
 "nbformat_minor": 2
}
